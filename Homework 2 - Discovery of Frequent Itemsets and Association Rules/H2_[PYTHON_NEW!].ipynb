{
  "nbformat": 4,
  "nbformat_minor": 0,
  "metadata": {
    "colab": {
      "name": "H2 [PYTHON NEW!].ipynb",
      "provenance": []
    },
    "kernelspec": {
      "name": "python3",
      "display_name": "Python 3"
    },
    "language_info": {
      "name": "python"
    }
  },
  "cells": [
    {
      "cell_type": "markdown",
      "metadata": {
        "id": "FEgooARfS0Tr"
      },
      "source": [
        "# Homework 2: Discovery of Frequent Itemsets and Association Rules"
      ]
    },
    {
      "cell_type": "markdown",
      "metadata": {
        "id": "2cu5e1X8TArM"
      },
      "source": [
        "## Libraries"
      ]
    },
    {
      "cell_type": "code",
      "metadata": {
        "id": "T0fdTdHGHG6l"
      },
      "source": [
        "from collections import defaultdict\n",
        "import itertools\n",
        "import time"
      ],
      "execution_count": 2,
      "outputs": []
    },
    {
      "cell_type": "markdown",
      "metadata": {
        "id": "QW44MD8MTDND"
      },
      "source": [
        "## Functions"
      ]
    },
    {
      "cell_type": "code",
      "metadata": {
        "id": "URkJmHn4Imza"
      },
      "source": [
        "def filterSupport(L, s):\n",
        "  \"\"\"\n",
        "  Filter candidates with lower frequency than s\n",
        "  \"\"\"\n",
        "  \n",
        "  # Return: {(x, y, ..., z): [count] >= s, (a, b, ..., z): [count] >= s, ...}\n",
        "  # Type: Dictionary\n",
        "  return {i: L[i]  for i in L if L[i] >= s}"
      ],
      "execution_count": 165,
      "outputs": []
    },
    {
      "cell_type": "code",
      "metadata": {
        "id": "AYstmQAfIWXr"
      },
      "source": [
        "def reduceByKey(L):\n",
        "  \"\"\"\n",
        "  Reduce list of items by key and count\n",
        "  \"\"\"\n",
        "\n",
        "  new_L = defaultdict(int)\n",
        "  for k in L:\n",
        "    new_L[(k,)] += 1\n",
        "  # Return: {(x, y, ..., z): [count], (a, b, ..., z): [count] , ...}\n",
        "  # Type: Dictionary\n",
        "  return new_L"
      ],
      "execution_count": 166,
      "outputs": []
    },
    {
      "cell_type": "code",
      "metadata": {
        "id": "EuOOpCvQe3Of"
      },
      "source": [
        "def apriori_gen(C_tak, single_item):\n",
        "  \"\"\"\n",
        "  Generate new items of size (0, 1, ..., k)\n",
        "  \"\"\"\n",
        "  Ck = {}\n",
        "  # Loop through all (k-1)-sub-itemsets\n",
        "  for item_set in C_tak:\n",
        "    # Check of 1-sub-itemsets is within arbitrary (k-1)-sub-itemsets\n",
        "    # If not, a new k-sub-itemset is created from:\n",
        "    #\n",
        "    # ((k-1)-sub-itemsets , 1-sub-itemsets)\n",
        "    for item in single_items:\n",
        "      if item[0] not in item_set:\n",
        "        new_item = tuple(sorted(item_set + item))\n",
        "        if new_item not in Ck:\n",
        "          Ck[new_item] = 0\n",
        "\n",
        "  # Return: New k-sub-itemsets\n",
        "  # Structure: {item0: 0, item1:0, ...}\n",
        "  return Ck"
      ],
      "execution_count": 176,
      "outputs": []
    },
    {
      "cell_type": "code",
      "metadata": {
        "id": "RGbUEGSEHPuL"
      },
      "source": [
        "def read_file():\n",
        "  \"\"\"\n",
        "  Read database file of sale transactions\n",
        "  \"\"\"\n",
        "\n",
        "  L = list()\n",
        "  with open(\"T10I4D100K.dat\") as file:\n",
        "    for line in file:\n",
        "      L.append(tuple(map(int, line.rstrip().split(\" \"))))\n",
        "  transactions = L\n",
        "  single_items = list(itertools.chain(*L))\n",
        "\n",
        "  # Return: transactions: list of transactions in the form of tuples\n",
        "  #         single_items: list of total items bought\n",
        "  return transactions, single_items"
      ],
      "execution_count": 162,
      "outputs": []
    },
    {
      "cell_type": "markdown",
      "metadata": {
        "id": "9ha05zNud0nh"
      },
      "source": [
        "## Algorithm"
      ]
    },
    {
      "cell_type": "markdown",
      "metadata": {
        "id": "TmBFljkKTH8j"
      },
      "source": [
        "### Creating baskets"
      ]
    },
    {
      "cell_type": "code",
      "metadata": {
        "id": "tIA1fng4Hflo"
      },
      "source": [
        "s  = 1000\n",
        "transactions, single_items = read_file()"
      ],
      "execution_count": 173,
      "outputs": []
    },
    {
      "cell_type": "markdown",
      "metadata": {
        "id": "IjzEpdYhTUaS"
      },
      "source": [
        "### First iteration of the algorithm"
      ]
    },
    {
      "cell_type": "code",
      "metadata": {
        "id": "RXluMaw8Hhnb"
      },
      "source": [
        "L = reduceByKey(single_items)\n",
        "single_items = filterSupport(L, s)\n",
        "L = single_items\n",
        "frequent_k_itemsets = []\n",
        "frequent_k_itemsets.append(single_items)"
      ],
      "execution_count": 174,
      "outputs": []
    },
    {
      "cell_type": "markdown",
      "metadata": {
        "id": "7G6ULx-pTcWp"
      },
      "source": [
        "### Apriori main algorithm"
      ]
    },
    {
      "cell_type": "code",
      "metadata": {
        "colab": {
          "base_uri": "https://localhost:8080/"
        },
        "id": "QekGs-YAN6VS",
        "outputId": "705d7012-3009-4755-a313-12fd8510e01c"
      },
      "source": [
        "k = 2\n",
        "start = time.time()\n",
        "print(\"Frequent itemsets ( k =\", k-1, \")\", L)\n",
        "\n",
        "# Iterate until there is no frequent itemsets left for size k\n",
        "while L:\n",
        "  # Generate k-sub-itemsets\n",
        "  Ck = apriori_gen(L, single_item_set)\n",
        "  new_transactions = []\n",
        "  # Iterate of transactions and find how many k-sub-itemsets are\n",
        "  # is in each transaction and add them up --> Filter out k-sub-itemsets <= s\n",
        "  for transaction in transactions:\n",
        "    relevant = False\n",
        "    # Make all possible transaction combination of size k\n",
        "    transaction_combinations = itertools.combinations(transaction, k)\n",
        "    # Find which k-sub-itemsets is within a specific transaction\n",
        "    # and add each occurence\n",
        "    for combination in transaction_combinations:\n",
        "      if combination in Ck:\n",
        "        Ck[combination] += 1\n",
        "        relevant = True\n",
        "    \n",
        "    # If transaction contain arbitrary k-sub-itemset\n",
        "    # the transaction will be used for next k+1 iteration\n",
        "    if relevant:\n",
        "      new_transactions.append(transaction)\n",
        "\n",
        "  # Filter k-sub-itemsets below < s occurences\n",
        "  L = filterSupport(Ck, s)\n",
        "  # Update transactions to only transactions which have been containing k-sub-itemsets\n",
        "  transactions = new_transactions\n",
        "  # Add frequenct k-sub-itemsets\n",
        "  frequent_k_itemsets.append(L)\n",
        "  k += 1\n",
        "\n",
        "  print(\"Frequent itemsets ( k =\", k, \")\", L)\n",
        "print(\"Time: \", time.time()- start, \"s\")\n",
        "    "
      ],
      "execution_count": 175,
      "outputs": [
        {
          "output_type": "stream",
          "name": "stdout",
          "text": [
            "Frequent itemsets ( k = 1 ) {(25,): 1395, (52,): 1983, (240,): 1399, (274,): 2628, (368,): 7828, (448,): 1370, (538,): 3982, (561,): 2783, (630,): 1523, (687,): 1762, (775,): 3771, (825,): 3085, (834,): 1373, (39,): 4258, (120,): 4973, (205,): 3605, (401,): 3667, (581,): 2943, (704,): 1794, (814,): 1672, (35,): 1984, (674,): 2527, (733,): 1141, (854,): 2847, (950,): 1463, (422,): 1255, (449,): 1890, (857,): 1588, (895,): 3385, (937,): 4681, (964,): 1518, (229,): 2281, (283,): 4082, (294,): 1445, (381,): 2959, (708,): 1090, (738,): 2129, (766,): 6265, (853,): 1804, (883,): 4902, (966,): 3921, (978,): 1141, (104,): 1158, (143,): 1417, (569,): 2835, (620,): 2100, (798,): 3103, (185,): 1529, (214,): 1893, (350,): 3069, (529,): 7057, (658,): 1881, (682,): 4132, (782,): 2767, (809,): 2163, (947,): 3690, (970,): 2086, (227,): 1818, (390,): 2685, (71,): 3507, (192,): 2004, (208,): 1483, (279,): 3014, (280,): 2108, (496,): 1428, (530,): 1263, (597,): 2883, (618,): 1337, (675,): 2976, (720,): 3864, (914,): 4037, (932,): 1786, (183,): 3883, (217,): 5375, (276,): 2479, (653,): 2634, (706,): 1923, (878,): 2047, (161,): 2320, (175,): 2791, (177,): 4629, (424,): 1448, (490,): 1066, (571,): 2902, (623,): 1845, (795,): 3361, (910,): 1695, (960,): 2732, (125,): 1287, (130,): 1711, (392,): 2420, (461,): 1498, (862,): 3649, (27,): 2165, (78,): 2471, (900,): 1165, (921,): 2425, (147,): 1383, (411,): 2047, (572,): 1589, (579,): 2164, (778,): 2514, (803,): 2237, (266,): 1022, (290,): 1793, (458,): 1124, (523,): 2244, (614,): 3134, (888,): 3686, (944,): 2794, (43,): 1721, (70,): 2411, (204,): 2174, (334,): 2146, (480,): 2309, (513,): 1287, (874,): 2237, (151,): 2611, (504,): 1296, (890,): 1437, (73,): 2179, (310,): 1390, (419,): 5057, (469,): 1502, (722,): 5845, (810,): 1267, (844,): 2814, (846,): 1480, (918,): 3012, (967,): 1695, (326,): 1488, (403,): 1722, (526,): 2793, (774,): 2046, (788,): 2386, (789,): 4309, (975,): 1764, (116,): 2193, (198,): 1461, (201,): 1029, (171,): 1097, (541,): 3735, (701,): 1283, (805,): 1789, (946,): 1350, (471,): 2894, (487,): 3135, (631,): 2793, (638,): 2288, (678,): 1329, (735,): 1689, (780,): 2306, (935,): 1742, (17,): 1683, (242,): 2325, (758,): 2860, (763,): 1862, (956,): 3626, (145,): 4559, (385,): 1676, (676,): 2717, (790,): 1094, (792,): 1306, (885,): 3043, (522,): 2725, (617,): 2614, (859,): 1242, (12,): 3415, (296,): 2210, (354,): 5835, (548,): 2843, (684,): 5408, (740,): 1632, (841,): 1927, (210,): 2009, (346,): 3470, (477,): 2462, (605,): 1652, (829,): 6810, (884,): 1645, (234,): 1416, (460,): 4438, (649,): 1292, (746,): 1982, (600,): 1192, (28,): 1454, (157,): 1140, (5,): 1094, (115,): 1775, (517,): 1201, (736,): 1470, (744,): 2177, (919,): 3710, (196,): 2096, (489,): 3420, (494,): 5102, (641,): 1494, (673,): 1635, (362,): 4388, (591,): 1241, (31,): 1666, (58,): 1330, (181,): 1235, (472,): 2125, (573,): 1229, (628,): 1102, (651,): 1288, (111,): 1171, (154,): 1447, (168,): 1538, (580,): 1667, (632,): 1070, (832,): 2062, (871,): 2810, (988,): 1164, (72,): 2852, (981,): 1542, (10,): 1351, (132,): 2641, (21,): 2666, (32,): 4248, (54,): 2595, (239,): 2742, (348,): 1226, (100,): 1749, (500,): 1444, (48,): 2472, (126,): 1075, (319,): 1371, (639,): 1572, (765,): 1705, (521,): 1582, (112,): 2680, (140,): 2687, (285,): 2600, (387,): 2089, (511,): 1015, (594,): 1516, (93,): 2777, (583,): 1389, (606,): 2668, (236,): 2618, (952,): 1574, (90,): 1875, (593,): 2601, (941,): 1126, (122,): 1081, (718,): 1238, (1,): 1535, (423,): 1412, (516,): 1544, (6,): 2149, (69,): 2370, (797,): 2684, (913,): 1939, (577,): 1695, (110,): 1801, (509,): 3044, (611,): 1444, (995,): 1521, (343,): 1599, (527,): 1185, (33,): 1460, (336,): 1071, (989,): 1289, (97,): 1466, (574,): 1297, (793,): 3063, (598,): 3219, (427,): 1856, (470,): 4137, (37,): 1249, (992,): 1116, (55,): 1959, (897,): 1935, (275,): 1692, (51,): 1612, (259,): 1522, (45,): 1728, (162,): 1450, (378,): 1149, (534,): 1531, (906,): 1444, (912,): 1009, (576,): 1337, (373,): 2007, (716,): 1199, (546,): 1050, (665,): 1297, (963,): 1327, (349,): 2041, (8,): 3090, (197,): 1230, (413,): 2637, (749,): 1330, (823,): 1031, (94,): 1201, (982,): 1640, (984,): 1756, (515,): 1166, (692,): 4993, (694,): 2847, (567,): 1102, (57,): 2743, (800,): 1916, (812,): 1518, (41,): 1353, (414,): 1160, (923,): 1753, (377,): 1149, (752,): 2578, (991,): 1268, (998,): 2713, (899,): 1252, (710,): 1044, (867,): 1530, (170,): 1203, (438,): 4511, (563,): 1065, (357,): 1142, (332,): 1861, (361,): 1104, (322,): 1154, (928,): 1034, (75,): 3151, (486,): 1547, (440,): 1943, (38,): 2402, (784,): 1257, (265,): 1359, (686,): 1495, (540,): 1293, (468,): 1089, (663,): 2354, (819,): 1257, (886,): 3053, (429,): 1037, (843,): 1222, (129,): 1547, (578,): 1290, (510,): 3281, (68,): 1601, (860,): 1255, (4,): 1394, (887,): 1671, (309,): 1262, (804,): 1315, (325,): 1022, (826,): 2022, (394,): 1145, (707,): 1354, (105,): 1100, (815,): 1358, (948,): 1149, (308,): 1402, (661,): 2693, (634,): 2492, (351,): 1641, (405,): 1525, (688,): 1132, (949,): 1414, (163,): 1256, (893,): 1947, (335,): 1345, (173,): 1080, (258,): 1036, (85,): 1555, (450,): 2082, (428,): 1021, (550,): 1203, (769,): 1622, (554,): 1114, (366,): 1031, (820,): 1473, (207,): 1214}\n",
            "Frequent itemsets ( k = 3 ) {(368, 682): 1193, (368, 829): 1194, (39, 825): 1187, (704, 825): 1102, (39, 704): 1107, (227, 390): 1049, (390, 722): 1042, (217, 346): 1336, (789, 829): 1194}\n",
            "Frequent itemsets ( k = 4 ) {(39, 704, 825): 1035}\n",
            "Frequent itemsets ( k = 5 ) {}\n",
            "Time:  6.188016653060913 s\n"
          ]
        }
      ]
    },
    {
      "cell_type": "code",
      "metadata": {
        "id": "bIO2oWKtLriq"
      },
      "source": [
        ""
      ],
      "execution_count": null,
      "outputs": []
    }
  ]
}